{
 "cells": [
  {
   "cell_type": "markdown",
   "id": "20d2b16f",
   "metadata": {},
   "source": [
    "# Stack AI + YOLO 🔥\n",
    "\n",
    "In this tutorial, we will use Stack AI to log an experiment with the model YOLOs, load images from the remote datasets, and store model predictions in the Stack AI interface. We will cover:\n",
    "\n",
    "- Connecting to Stack AI API in Python\n",
    "- Connecting a remote dataset and downloading specific datapoints\n",
    "- Creating a training run to log model performance and logging different checkpoints in the Stack AI interface\n",
    "- Running a YOLOs model using HuggingFace\n",
    "- Storing model predictions in the Stack UI\n",
    "\n",
    "## Setting up the API \n",
    "\n",
    "We start by importing the stack_client library:"
   ]
  },
  {
   "cell_type": "code",
   "execution_count": null,
   "id": "16225033",
   "metadata": {},
   "outputs": [],
   "source": [
    "from stacklib import stack_client\n",
    "import PIL\n",
    "from PIL import Image\n",
    "import io\n",
    "import requests"
   ]
  },
  {
   "cell_type": "markdown",
   "id": "7e1c61c3",
   "metadata": {},
   "source": [
    "We proceed to initialize the client and start a project with the dataset stored in the local URI 'coco128'"
   ]
  },
  {
   "cell_type": "code",
   "execution_count": null,
   "id": "6d6d5f6c",
   "metadata": {},
   "outputs": [],
   "source": [
    "# we load the stack client \n",
    "stack = stack_client()\n",
    "\n",
    "# we initialize a project on the dataset 'coco128'\n",
    "stack.init(uri='coco128',  project='example_dataset_management')"
   ]
  },
  {
   "cell_type": "markdown",
   "id": "76b28924",
   "metadata": {},
   "source": [
    "## Loading datapoints via the API\n",
    "\n",
    "Then, we load the list of datapoints from the remote dataset and downloading an image"
   ]
  },
  {
   "cell_type": "code",
   "execution_count": null,
   "id": "51902499",
   "metadata": {},
   "outputs": [],
   "source": [
    "datapoints = stack.list_datapoints()\n",
    "print(datapoints)\n",
    "\n",
    "# loading a datapoint via the stack API\n",
    "image = stack.get_datapoint(datapoints['keys'][0])"
   ]
  },
  {
   "cell_type": "markdown",
   "id": "49b4faeb",
   "metadata": {},
   "source": [
    "## Logging a training run\n",
    "\n",
    "We setup a training run for this dataset to fine-tune YOLOs"
   ]
  },
  {
   "cell_type": "code",
   "execution_count": null,
   "id": "25814199",
   "metadata": {},
   "outputs": [],
   "source": [
    "# we set the configuration for a training run\n",
    "epochs = 100\n",
    "lr = 0.001\n",
    "batch_size = 129\n",
    "\n",
    "stack.config = {\"learning_rate\": lr, \"epochs\": epochs, \"batch_size\": batch_size}"
   ]
  },
  {
   "cell_type": "markdown",
   "id": "fd7204af",
   "metadata": {},
   "source": [
    "We log the objective curve at each iteration of the training"
   ]
  },
  {
   "cell_type": "code",
   "execution_count": null,
   "id": "5d6be5d3",
   "metadata": {},
   "outputs": [],
   "source": [
    "for i in range(1,epochs):\n",
    "    \n",
    "    # <-------- run model training  -------->\n",
    "        \n",
    "    loss_at_epoch = 1/i # dummy data\n",
    "    stack.log({'loss': loss_at_epoch, 'epoch': i})"
   ]
  },
  {
   "cell_type": "markdown",
   "id": "c02d7916",
   "metadata": {},
   "source": [
    "## Storing predicitions from a YOLO 🚀 \n",
    "\n",
    "\n",
    "In the next step, we will: \n",
    "- Loop over the first 10 datapoints in the dataset. \n",
    "- Use YOLOs to get inferences on each image. \n",
    "- Receive the predictions in json format.\n",
    "- Transform the predictions into YOLO format"
   ]
  },
  {
   "cell_type": "code",
   "execution_count": null,
   "id": "fb5e61ab",
   "metadata": {},
   "outputs": [],
   "source": [
    "YOLOs_URL = \"https://api-inference.huggingface.co/models/hustvl/yolos-tiny\"\n",
    "headers = {\"Authorization\": f\"Bearer {'YOUR HUGGINGFACE API KEY'}\"}\n",
    "\n",
    "prediction_array = {}\n",
    "\n",
    "for i in range(10):\n",
    "    # loading the image\n",
    "    image = stack.get_datapoint(datapoints['keys'][i])\n",
    "    img = Image.open(io.BytesIO(image))\n",
    "\n",
    "    # fetching the dimensions\n",
    "    response = requests.request(\"POST\", YOLOs_URL, headers=headers, data=image)\n",
    "    prediction = json.loads(response.content.decode(\"utf-8\"))\n",
    "    \n",
    "    # Stack receives predictions formatted as arrays with ['class', x, y, width, height]\n",
    "    wid, hgt = img.size\n",
    "    bounding_boxes = []\n",
    "    for bbox in prediction:\n",
    "        x = (bbox['box']['xmin']+bbox['box']['xmax'])/(2 * wid)\n",
    "        y = (bbox['box']['ymin']+bbox['box']['ymax'])/(2 * hgt)\n",
    "        w = (bbox['box']['xmax']-bbox['box']['xmin'])/(wid)\n",
    "        h = (bbox['box']['ymax']-bbox['box']['xmin'])/(hgt)\n",
    "        cl = bbox['label']\n",
    "        bounding_boxes.append([cl, x, y, w, h])\n",
    "    \n",
    "    # adds the prediction to the array\n",
    "    prediction_array[datapoints['keys'][i]] = label"
   ]
  },
  {
   "cell_type": "markdown",
   "id": "064bedc9",
   "metadata": {},
   "source": [
    "We then send the prediction array to the Stack database:"
   ]
  },
  {
   "cell_type": "code",
   "execution_count": null,
   "id": "e3eb6750",
   "metadata": {},
   "outputs": [],
   "source": [
    "stack.store_predictions([pred])"
   ]
  },
  {
   "cell_type": "markdown",
   "id": "7015aee4",
   "metadata": {},
   "source": [
    "🤩 Now you can visit the Stack AI tool and you will see a new experiment logged under 'coco128'! The experiment will contain the training curve, a visualization of predictions, and an interface to review false positives/negatives."
   ]
  }
 ],
 "metadata": {
  "kernelspec": {
   "display_name": "Python 3",
   "language": "python",
   "name": "python3"
  },
  "language_info": {
   "codemirror_mode": {
    "name": "ipython",
    "version": 3
   },
   "file_extension": ".py",
   "mimetype": "text/x-python",
   "name": "python",
   "nbconvert_exporter": "python",
   "pygments_lexer": "ipython3",
   "version": "3.10.9"
  }
 },
 "nbformat": 4,
 "nbformat_minor": 5
}
